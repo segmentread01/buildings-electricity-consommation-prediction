{
 "cells": [
  {
   "cell_type": "markdown",
   "metadata": {},
   "source": [
    "# CROSS - VALIDATION"
   ]
  },
  {
   "cell_type": "code",
   "execution_count": 1,
   "metadata": {},
   "outputs": [],
   "source": [
    "import pandas as pd\n",
    "import numpy as np\n",
    "import matplotlib.pyplot as plt\n",
    "import seaborn as sns\n",
    "import sklearn\n",
    "import time\n",
    "from sklearn import model_selection\n",
    "from sklearn.model_selection import GridSearchCV\n",
    "from sklearn.preprocessing import StandardScaler\n",
    "from sklearn.metrics import mean_squared_error, r2_score"
   ]
  },
  {
   "cell_type": "code",
   "execution_count": 2,
   "metadata": {},
   "outputs": [],
   "source": [
    "pd.set_option('display.max_columns', None)\n",
    "pd.set_option('display.max_rows', None)\n",
    "pd.set_option('max_colwidth', 100)"
   ]
  },
  {
   "cell_type": "code",
   "execution_count": 3,
   "metadata": {},
   "outputs": [],
   "source": [
    "df = pd.read_csv(\"clean_building_data.csv\") # on obtient la table avec ancien index comme nouvelle colonne\n",
    "df.drop(columns = ['Unnamed: 0'], inplace=True)"
   ]
  },
  {
   "cell_type": "code",
   "execution_count": 4,
   "metadata": {},
   "outputs": [],
   "source": [
    "df.fillna(0, inplace = True)"
   ]
  },
  {
   "cell_type": "code",
   "execution_count": 5,
   "metadata": {},
   "outputs": [],
   "source": [
    "# valeurs NaN et valeurs infinit\n",
    "def control_inf (df):\n",
    "# suppression des lignes de valeurs infinis par les index\n",
    "    indinf = df[np.isinf(df.values)==True].index\n",
    "    df.drop(indinf, axis=0, inplace=True)\n",
    "    print(df.shape)"
   ]
  },
  {
   "cell_type": "code",
   "execution_count": 6,
   "metadata": {},
   "outputs": [
    {
     "name": "stdout",
     "output_type": "stream",
     "text": [
      "(3394, 62)\n"
     ]
    }
   ],
   "source": [
    "control_inf(df)"
   ]
  },
  {
   "cell_type": "code",
   "execution_count": 7,
   "metadata": {},
   "outputs": [],
   "source": [
    "df_emssion = df.drop(columns=['TotalGHGEmissions', 'SiteEnergyUse(kBtu)',\n",
    "                            'SiteEUI(kBtu/sf)','SourceEUI(kBtu/sf)','GHGEmissionsIntensity','SteamUse(kBtu)','Electricity(kBtu)','NaturalGas(kBtu)',\n",
    "                            'ENERGYSTARScore']) # élimine la colonne cible, la colonne d'intensité d'émissionCO2 pour la table de prédiction CO2\n",
    "                                                                                               # élimine la colonne 'energystarscore' pour l'évaluation de l'intérêt\n",
    "df_energy = df.drop(columns=['TotalGHGEmissions', 'SiteEnergyUse(kBtu)',\n",
    "                            'SiteEUI(kBtu/sf)','SourceEUI(kBtu/sf)','GHGEmissionsIntensity','SteamUse(kBtu)','Electricity(kBtu)','NaturalGas(kBtu)'])"
   ]
  },
  {
   "cell_type": "code",
   "execution_count": 8,
   "metadata": {},
   "outputs": [
    {
     "name": "stdout",
     "output_type": "stream",
     "text": [
      "(3394, 53)\n",
      "(3394, 54)\n",
      "(3394, 62)\n"
     ]
    }
   ],
   "source": [
    "print(df_emssion.shape)\n",
    "print(df_energy.shape)\n",
    "print(df.shape)"
   ]
  },
  {
   "cell_type": "code",
   "execution_count": 9,
   "metadata": {},
   "outputs": [
    {
     "data": {
      "text/html": [
       "<div>\n",
       "<style scoped>\n",
       "    .dataframe tbody tr th:only-of-type {\n",
       "        vertical-align: middle;\n",
       "    }\n",
       "\n",
       "    .dataframe tbody tr th {\n",
       "        vertical-align: top;\n",
       "    }\n",
       "\n",
       "    .dataframe thead th {\n",
       "        text-align: right;\n",
       "    }\n",
       "</style>\n",
       "<table border=\"1\" class=\"dataframe\">\n",
       "  <thead>\n",
       "    <tr style=\"text-align: right;\">\n",
       "      <th></th>\n",
       "      <th>Modèle</th>\n",
       "      <th>MSE</th>\n",
       "      <th>R²</th>\n",
       "      <th>Time</th>\n",
       "    </tr>\n",
       "  </thead>\n",
       "  <tbody>\n",
       "  </tbody>\n",
       "</table>\n",
       "</div>"
      ],
      "text/plain": [
       "Empty DataFrame\n",
       "Columns: [Modèle, MSE, R², Time]\n",
       "Index: []"
      ]
     },
     "execution_count": 9,
     "metadata": {},
     "output_type": "execute_result"
    }
   ],
   "source": [
    "df_score = pd.DataFrame(columns=['Modèle', 'MSE', 'R²', 'Time'],index=None)\n",
    "df_score"
   ]
  },
  {
   "cell_type": "code",
   "execution_count": 18,
   "metadata": {},
   "outputs": [],
   "source": [
    "from sklearn.linear_model import LinearRegression\n",
    "from sklearn.linear_model import Ridge\n",
    "from sklearn.linear_model import Lasso\n",
    "from sklearn.linear_model import ElasticNet\n",
    "from sklearn.svm import SVR\n",
    "from sklearn.ensemble import RandomForestRegressor\n",
    "from sklearn.ensemble import BaggingRegressor\n",
    "from sklearn.ensemble import GradientBoostingRegressor\n",
    "\n",
    "from sklearn.model_selection import KFold\n",
    "from sklearn.model_selection import cross_val_score\n",
    "from sklearn.pipeline import Pipeline"
   ]
  },
  {
   "cell_type": "markdown",
   "metadata": {},
   "source": [
    "**Sélection du modèle via validation croisée - Prédiction Emission CO2**"
   ]
  },
  {
   "cell_type": "code",
   "execution_count": 17,
   "metadata": {},
   "outputs": [
    {
     "name": "stdout",
     "output_type": "stream",
     "text": [
      "Train (2262, 53) Test (1132, 53)\n",
      "Train (2263, 53) Test (1131, 53)\n",
      "Train (2263, 53) Test (1131, 53)\n"
     ]
    }
   ],
   "source": [
    "random_state = 0\n",
    "cross_validation = KFold(n_splits=5, random_state=random_state, shuffle=True)"
   ]
  },
  {
   "cell_type": "markdown",
   "metadata": {},
   "source": [
    "SVR EMISSION CO2"
   ]
  },
  {
   "cell_type": "code",
   "execution_count": 19,
   "metadata": {},
   "outputs": [],
   "source": [
    "# récupérer les values dans la table de composants principals\n",
    "X = df_emssion.values\n",
    "# définir la variable à prédire\n",
    "y = df['TotalGHGEmissions']"
   ]
  },
  {
   "cell_type": "code",
   "execution_count": 20,
   "metadata": {},
   "outputs": [],
   "source": [
    "scaler = StandardScaler()\n",
    "svr = SVR(C= 10, epsilon = 0.021544346900318846, kernel = 'rbf')"
   ]
  },
  {
   "cell_type": "code",
   "execution_count": 21,
   "metadata": {},
   "outputs": [
    {
     "name": "stdout",
     "output_type": "stream",
     "text": [
      "0.7389467021033114\n"
     ]
    }
   ],
   "source": [
    "pipeline = Pipeline([('standardiser', scaler), ('svr', svr)])\n",
    "score = cross_val_score(pipeline, X, y, cv = cross_validation)\n",
    "score_svr = score.mean()\n",
    "print(score_svr)"
   ]
  },
  {
   "cell_type": "markdown",
   "metadata": {},
   "source": [
    "RANDOM FOREST EMISSION CO2"
   ]
  },
  {
   "cell_type": "code",
   "execution_count": 26,
   "metadata": {},
   "outputs": [],
   "source": [
    "rfr = RandomForestRegressor(max_depth=10, max_features='sqrt', max_samples=0.7, min_samples_split=2, n_estimators=900)"
   ]
  },
  {
   "cell_type": "code",
   "execution_count": 27,
   "metadata": {},
   "outputs": [
    {
     "name": "stdout",
     "output_type": "stream",
     "text": [
      "0.7847762111903304\n"
     ]
    }
   ],
   "source": [
    "pipeline = Pipeline([('standardiser', scaler), ('random forest', rfr)])\n",
    "score = cross_val_score(pipeline, X, y, cv = cross_validation)\n",
    "score_rfr = score.mean()\n",
    "print(score_rfr)"
   ]
  },
  {
   "cell_type": "markdown",
   "metadata": {},
   "source": [
    "GRADIENT BOOSTING CO2"
   ]
  },
  {
   "cell_type": "code",
   "execution_count": 28,
   "metadata": {},
   "outputs": [],
   "source": [
    "gbx = GradientBoostingRegressor(learning_rate=0.2, n_estimators=900, max_depth=3)"
   ]
  },
  {
   "cell_type": "code",
   "execution_count": 29,
   "metadata": {},
   "outputs": [
    {
     "name": "stdout",
     "output_type": "stream",
     "text": [
      "0.8565063291864693\n"
     ]
    }
   ],
   "source": [
    "pipeline = Pipeline([('standardiser', scaler), ('gradient boosting', gbx)])\n",
    "score = cross_val_score(pipeline, X, y, cv = cross_validation)\n",
    "score_gbx = score.mean()\n",
    "print(score_gbx)"
   ]
  },
  {
   "cell_type": "markdown",
   "metadata": {},
   "source": [
    "           Résumé 1: Gradient Boosting est le plus performant pour prédire l'émission CO2"
   ]
  },
  {
   "cell_type": "markdown",
   "metadata": {},
   "source": [
    "**Sélection du modèle via validation croisée - Prédiction Consommation d'energie**"
   ]
  },
  {
   "cell_type": "code",
   "execution_count": 30,
   "metadata": {},
   "outputs": [],
   "source": [
    "# récupérer les values dans la table de composants principals\n",
    "X = df_energy.values\n",
    "# définir la variable à prédire\n",
    "y = df['SiteEnergyUse(kBtu)']"
   ]
  },
  {
   "cell_type": "markdown",
   "metadata": {},
   "source": [
    "SVR CONSOMMATION ENERGIE"
   ]
  },
  {
   "cell_type": "code",
   "execution_count": 31,
   "metadata": {},
   "outputs": [
    {
     "name": "stdout",
     "output_type": "stream",
     "text": [
      "0.584452940906403\n"
     ]
    }
   ],
   "source": [
    "svr = SVR(C = 10, epsilon = 0.021544346900318846, kernel = 'rbf')\n",
    "pipeline = Pipeline([('standardiser', scaler), ('svr energy', svr)])\n",
    "score = cross_val_score(pipeline, X, y, cv = cross_validation)\n",
    "score_svr_energy = score.mean()\n",
    "print(score_svr_energy)"
   ]
  },
  {
   "cell_type": "markdown",
   "metadata": {},
   "source": [
    "RANDOM FOREST CONSOMMATION ENERGIE"
   ]
  },
  {
   "cell_type": "code",
   "execution_count": 32,
   "metadata": {},
   "outputs": [
    {
     "name": "stdout",
     "output_type": "stream",
     "text": [
      "0.723383734418371\n"
     ]
    }
   ],
   "source": [
    "rfr = RandomForestRegressor(max_depth=10, max_features='sqrt', max_samples=0.7,\n",
    "                      n_estimators=700)\n",
    "\n",
    "pipeline = Pipeline([('standardiser', scaler), ('random forest energy', rfr)])\n",
    "score = cross_val_score(pipeline, X, y, cv = cross_validation)\n",
    "score_rfr_energy = score.mean()\n",
    "print(score_rfr_energy)"
   ]
  },
  {
   "cell_type": "markdown",
   "metadata": {},
   "source": [
    "GRADIENT BOOSTING CONSOMMATION ENERGIE"
   ]
  },
  {
   "cell_type": "code",
   "execution_count": 33,
   "metadata": {},
   "outputs": [
    {
     "name": "stdout",
     "output_type": "stream",
     "text": [
      "0.8416790467984834\n"
     ]
    }
   ],
   "source": [
    "gbx = GradientBoostingRegressor(learning_rate=0.2, n_estimators=900, max_depth=3)\n",
    "\n",
    "pipeline = Pipeline([('standardiser', scaler), ('gradient boosting energy', gbx)])\n",
    "score = cross_val_score(pipeline, X, y, cv = cross_validation)\n",
    "score_gbx_energy = score.mean()\n",
    "print(score_gbx_energy)"
   ]
  },
  {
   "cell_type": "markdown",
   "metadata": {},
   "source": [
    "            Résumé 2: Gradient Boosting est le plus performant pour prédire la consommation totale d'énergie"
   ]
  }
 ],
 "metadata": {
  "interpreter": {
   "hash": "1c1be8e78c2763b4e4e23bcc191714ac7860c0d7e8ae0579e84ad0327d0c0e0a"
  },
  "kernelspec": {
   "display_name": "Python 3 (ipykernel)",
   "language": "python",
   "name": "python3"
  },
  "language_info": {
   "codemirror_mode": {
    "name": "ipython",
    "version": 3
   },
   "file_extension": ".py",
   "mimetype": "text/x-python",
   "name": "python",
   "nbconvert_exporter": "python",
   "pygments_lexer": "ipython3",
   "version": "3.9.16"
  }
 },
 "nbformat": 4,
 "nbformat_minor": 2
}
